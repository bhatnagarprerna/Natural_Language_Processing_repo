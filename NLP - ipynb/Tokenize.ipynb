{
 "cells": [
  {
   "cell_type": "markdown",
   "id": "8f49e536",
   "metadata": {},
   "source": [
    "# Problem Statement\n",
    "Create a python function that takes a string as an input and returns a string without stopwords as an output. "
   ]
  },
  {
   "cell_type": "code",
   "execution_count": 2,
   "id": "8d388adf",
   "metadata": {},
   "outputs": [],
   "source": [
    "# I am writing some code as hints, feel free to solve it however you want\n",
    "from nltk.corpus import stopwords\n",
    "from nltk.tokenize import word_tokenize\n",
    "import nltk"
   ]
  },
  {
   "cell_type": "code",
   "execution_count": 3,
   "id": "4dc4dfdd",
   "metadata": {},
   "outputs": [],
   "source": [
    "stop_words = stopwords.words(\"english\")"
   ]
  },
  {
   "cell_type": "code",
   "execution_count": 4,
   "id": "d9318997",
   "metadata": {},
   "outputs": [],
   "source": [
    "string1 = \"I liked a product very much, so i am purchasing it for myself \""
   ]
  },
  {
   "cell_type": "code",
   "execution_count": 5,
   "id": "37ae78c3",
   "metadata": {},
   "outputs": [],
   "source": [
    "words=nltk.word_tokenize(string1)"
   ]
  },
  {
   "cell_type": "code",
   "execution_count": 6,
   "id": "54280c1d",
   "metadata": {},
   "outputs": [
    {
     "name": "stdout",
     "output_type": "stream",
     "text": [
      "I\n",
      "liked\n",
      "product\n",
      "much\n",
      ",\n",
      "purchasing\n"
     ]
    }
   ],
   "source": [
    "for i in words:\n",
    "    if i in stop_words:\n",
    "        pass\n",
    "    else:\n",
    "        print(i)"
   ]
  },
  {
   "cell_type": "code",
   "execution_count": 7,
   "id": "c9101939",
   "metadata": {},
   "outputs": [],
   "source": [
    "def nostop_words(a):\n",
    "    b=nltk.word_tokenize(a)\n",
    "    for i in b:\n",
    "        if i in stopwords.words(\"english\"):\n",
    "            pass\n",
    "        else:\n",
    "            print(i)"
   ]
  },
  {
   "cell_type": "code",
   "execution_count": 8,
   "id": "f4af53a3",
   "metadata": {},
   "outputs": [
    {
     "name": "stdout",
     "output_type": "stream",
     "text": [
      "I\n",
      "writing\n",
      "function\n",
      "removing\n",
      "stopwords\n",
      "python\n"
     ]
    }
   ],
   "source": [
    "nostop_words(\"I am writing a function for removing stopwords in python for myself\")"
   ]
  },
  {
   "cell_type": "code",
   "execution_count": null,
   "id": "40116afe",
   "metadata": {},
   "outputs": [],
   "source": []
  }
 ],
 "metadata": {
  "kernelspec": {
   "display_name": "Python 3 (ipykernel)",
   "language": "python",
   "name": "python3"
  },
  "language_info": {
   "codemirror_mode": {
    "name": "ipython",
    "version": 3
   },
   "file_extension": ".py",
   "mimetype": "text/x-python",
   "name": "python",
   "nbconvert_exporter": "python",
   "pygments_lexer": "ipython3",
   "version": "3.9.13"
  }
 },
 "nbformat": 4,
 "nbformat_minor": 5
}
