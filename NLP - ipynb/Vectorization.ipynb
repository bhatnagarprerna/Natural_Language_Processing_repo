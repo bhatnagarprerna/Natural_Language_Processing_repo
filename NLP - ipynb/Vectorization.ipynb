{
 "cells": [
  {
   "cell_type": "markdown",
   "id": "8f49e536",
   "metadata": {},
   "source": [
    "# Here is some dummy text\n",
    "- 'This is an example text, i am going to write anything here, use this text as your example'\n",
    "- 'You can use this text to convert into vectors'\n",
    "- 'Do remember to clean up the text before you start any processing'\n",
    "- 'Once you are done converting the text into numbers(vectors), do a shinchan dance'\n",
    "\n",
    "# Problem Statement \n",
    "1. Write code that will these four sentences into count vectors.\n",
    "2. Write code that will these four sentences into tf-idf vectors."
   ]
  },
  {
   "cell_type": "code",
   "execution_count": 1,
   "id": "8d388adf",
   "metadata": {},
   "outputs": [],
   "source": [
    "# I am writing some code as hints, feel free to solve it however you want\n",
    "from sklearn.feature_extraction.text import CountVectorizer\n",
    "from sklearn.feature_extraction.text import TfidfVectorizer"
   ]
  },
  {
   "cell_type": "code",
   "execution_count": null,
   "id": "9d9a7b4a",
   "metadata": {},
   "outputs": [],
   "source": [
    "# Sentences into Count Vectors"
   ]
  },
  {
   "cell_type": "code",
   "execution_count": 2,
   "id": "f478f68b",
   "metadata": {},
   "outputs": [],
   "source": [
    "vectorizer = CountVectorizer()"
   ]
  },
  {
   "cell_type": "code",
   "execution_count": 3,
   "id": "3225dfbb",
   "metadata": {},
   "outputs": [],
   "source": [
    "words = [\n",
    "    'This is an example text, i am going to write anything here, use this text as your example',\n",
    "'You can use this text to convert into vectors',\n",
    "'Do remember to clean up the text before you start any processing',\n",
    "'Once you are done converting the text into numbers(vectors), do a shinchan dance.'\n",
    "       ]"
   ]
  },
  {
   "cell_type": "code",
   "execution_count": 6,
   "id": "8c2d2fbf",
   "metadata": {},
   "outputs": [],
   "source": [
    "X = vectorizer.fit_transform(words)"
   ]
  },
  {
   "cell_type": "code",
   "execution_count": 7,
   "id": "2d09078a",
   "metadata": {},
   "outputs": [
    {
     "data": {
      "text/plain": [
       "array(['am', 'an', 'any', 'anything', 'are', 'as', 'before', 'can',\n",
       "       'clean', 'convert', 'converting', 'dance', 'do', 'done', 'example',\n",
       "       'going', 'here', 'into', 'is', 'numbers', 'once', 'processing',\n",
       "       'remember', 'shinchan', 'start', 'text', 'the', 'this', 'to', 'up',\n",
       "       'use', 'vectors', 'write', 'you', 'your'], dtype=object)"
      ]
     },
     "execution_count": 7,
     "metadata": {},
     "output_type": "execute_result"
    }
   ],
   "source": [
    "vectorizer.get_feature_names_out()"
   ]
  },
  {
   "cell_type": "code",
   "execution_count": 8,
   "id": "6f6681a1",
   "metadata": {},
   "outputs": [
    {
     "data": {
      "text/plain": [
       "array([[1, 1, 0, 1, 0, 1, 0, 0, 0, 0, 0, 0, 0, 0, 2, 1, 1, 0, 1, 0, 0, 0,\n",
       "        0, 0, 0, 2, 0, 2, 1, 0, 1, 0, 1, 0, 1],\n",
       "       [0, 0, 0, 0, 0, 0, 0, 1, 0, 1, 0, 0, 0, 0, 0, 0, 0, 1, 0, 0, 0, 0,\n",
       "        0, 0, 0, 1, 0, 1, 1, 0, 1, 1, 0, 1, 0],\n",
       "       [0, 0, 1, 0, 0, 0, 1, 0, 1, 0, 0, 0, 1, 0, 0, 0, 0, 0, 0, 0, 0, 1,\n",
       "        1, 0, 1, 1, 1, 0, 1, 1, 0, 0, 0, 1, 0],\n",
       "       [0, 0, 0, 0, 1, 0, 0, 0, 0, 0, 1, 1, 1, 1, 0, 0, 0, 1, 0, 1, 1, 0,\n",
       "        0, 1, 0, 1, 1, 0, 0, 0, 0, 1, 0, 1, 0]], dtype=int64)"
      ]
     },
     "execution_count": 8,
     "metadata": {},
     "output_type": "execute_result"
    }
   ],
   "source": [
    "X.toarray()"
   ]
  },
  {
   "cell_type": "code",
   "execution_count": null,
   "id": "513026f1",
   "metadata": {},
   "outputs": [],
   "source": [
    "# Sentences into TF-IDF vectors"
   ]
  },
  {
   "cell_type": "code",
   "execution_count": 9,
   "id": "3b64d2f8",
   "metadata": {},
   "outputs": [],
   "source": [
    "vectorizer = TfidfVectorizer()"
   ]
  },
  {
   "cell_type": "code",
   "execution_count": 11,
   "id": "d563db7f",
   "metadata": {},
   "outputs": [],
   "source": [
    "vector = [\n",
    "    'This is an example text, i am going to write anything here, use this text as your example',\n",
    "'You can use this text to convert into vectors',\n",
    "'Do remember to clean up the text before you start any processing',\n",
    "'Once you are done converting the text into numbers(vectors), do a shinchan dance.'\n",
    "       ]"
   ]
  },
  {
   "cell_type": "code",
   "execution_count": 12,
   "id": "a42b3ee2",
   "metadata": {},
   "outputs": [],
   "source": [
    "y = vectorizer.fit_transform(vector)"
   ]
  },
  {
   "cell_type": "code",
   "execution_count": 13,
   "id": "2b07d9f1",
   "metadata": {},
   "outputs": [
    {
     "data": {
      "text/plain": [
       "array(['am', 'an', 'any', 'anything', 'are', 'as', 'before', 'can',\n",
       "       'clean', 'convert', 'converting', 'dance', 'do', 'done', 'example',\n",
       "       'going', 'here', 'into', 'is', 'numbers', 'once', 'processing',\n",
       "       'remember', 'shinchan', 'start', 'text', 'the', 'this', 'to', 'up',\n",
       "       'use', 'vectors', 'write', 'you', 'your'], dtype=object)"
      ]
     },
     "execution_count": 13,
     "metadata": {},
     "output_type": "execute_result"
    }
   ],
   "source": [
    "vectorizer.get_feature_names_out()"
   ]
  },
  {
   "cell_type": "code",
   "execution_count": 14,
   "id": "65d0a295",
   "metadata": {},
   "outputs": [
    {
     "data": {
      "text/plain": [
       "array([[0.23833418, 0.23833418, 0.        , 0.23833418, 0.        ,\n",
       "        0.23833418, 0.        , 0.        , 0.        , 0.        ,\n",
       "        0.        , 0.        , 0.        , 0.        , 0.47666836,\n",
       "        0.23833418, 0.23833418, 0.        , 0.23833418, 0.        ,\n",
       "        0.        , 0.        , 0.        , 0.        , 0.        ,\n",
       "        0.24874532, 0.        , 0.37581081, 0.15212562, 0.        ,\n",
       "        0.1879054 , 0.        , 0.23833418, 0.        , 0.23833418],\n",
       "       [0.        , 0.        , 0.        , 0.        , 0.        ,\n",
       "        0.        , 0.        , 0.42358016, 0.        , 0.42358016,\n",
       "        0.        , 0.        , 0.        , 0.        , 0.        ,\n",
       "        0.        , 0.        , 0.33395546, 0.        , 0.        ,\n",
       "        0.        , 0.        , 0.        , 0.        , 0.        ,\n",
       "        0.2210417 , 0.        , 0.33395546, 0.27036573, 0.        ,\n",
       "        0.33395546, 0.33395546, 0.        , 0.27036573, 0.        ],\n",
       "       [0.        , 0.        , 0.32737961, 0.        , 0.        ,\n",
       "        0.        , 0.32737961, 0.        , 0.32737961, 0.        ,\n",
       "        0.        , 0.        , 0.25810984, 0.        , 0.        ,\n",
       "        0.        , 0.        , 0.        , 0.        , 0.        ,\n",
       "        0.        , 0.32737961, 0.32737961, 0.        , 0.32737961,\n",
       "        0.17084026, 0.25810984, 0.        , 0.20896216, 0.32737961,\n",
       "        0.        , 0.        , 0.        , 0.20896216, 0.        ],\n",
       "       [0.        , 0.        , 0.        , 0.        , 0.31363377,\n",
       "        0.        , 0.        , 0.        , 0.        , 0.        ,\n",
       "        0.31363377, 0.31363377, 0.24727247, 0.31363377, 0.        ,\n",
       "        0.        , 0.        , 0.24727247, 0.        , 0.31363377,\n",
       "        0.31363377, 0.        , 0.        , 0.31363377, 0.        ,\n",
       "        0.16366711, 0.24727247, 0.        , 0.        , 0.        ,\n",
       "        0.        , 0.24727247, 0.        , 0.20018837, 0.        ]])"
      ]
     },
     "execution_count": 14,
     "metadata": {},
     "output_type": "execute_result"
    }
   ],
   "source": [
    "y.toarray()"
   ]
  },
  {
   "cell_type": "code",
   "execution_count": null,
   "id": "78e58616",
   "metadata": {},
   "outputs": [],
   "source": []
  }
 ],
 "metadata": {
  "kernelspec": {
   "display_name": "Python 3 (ipykernel)",
   "language": "python",
   "name": "python3"
  },
  "language_info": {
   "codemirror_mode": {
    "name": "ipython",
    "version": 3
   },
   "file_extension": ".py",
   "mimetype": "text/x-python",
   "name": "python",
   "nbconvert_exporter": "python",
   "pygments_lexer": "ipython3",
   "version": "3.9.13"
  }
 },
 "nbformat": 4,
 "nbformat_minor": 5
}
