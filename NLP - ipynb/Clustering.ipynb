{
 "cells": [
  {
   "cell_type": "markdown",
   "id": "8f49e536",
   "metadata": {},
   "source": [
    "# Problem Statement - 1\n",
    "Prepare the data for modelling, This will include\n",
    "- Converting to lowercase\n",
    "- Removing stopwords\n",
    "- Lemmatization\n",
    "- Stemming\n",
    "- Removing numbers \n",
    "\n",
    "### Do it all in 1 function\n",
    "\n",
    "# Problem Statement - 2\n",
    "Once the data has been cleaned :-\n",
    "- Convert the data into vectors with Count Vectorizer. (No train-test required)\n",
    "- Fit the K-means Clustering Algorithm on your vectors with n_clusters set to 5\n",
    "\n",
    "\n",
    "------------\n",
    "\n",
    "![](https://media.tenor.com/d8fG2J6pkAUAAAAC/friends-chandler.gif)"
   ]
  },
  {
   "cell_type": "markdown",
   "id": "f0058752",
   "metadata": {},
   "source": [
    "# A hint\n",
    "The file is stores as a ```tsv```.\n",
    "\n",
    "You can load a ```tsv``` file with ```pd.read_csv``` while passing the seperator or ```sep``` argument as ```\\t```.\n",
    "\n",
    "This tells pandas that the file is seperated by tab's instead of comma's"
   ]
  },
  {
   "cell_type": "code",
   "execution_count": 1,
   "id": "54e0aada",
   "metadata": {},
   "outputs": [],
   "source": [
    "import pandas as pd"
   ]
  },
  {
   "cell_type": "code",
   "execution_count": 2,
   "id": "eb89bc41",
   "metadata": {},
   "outputs": [],
   "source": [
    "df = pd.read_csv('Restaurant_Reviews.tsv',sep='\\t')"
   ]
  },
  {
   "cell_type": "code",
   "execution_count": 3,
   "id": "5f932db5",
   "metadata": {},
   "outputs": [
    {
     "data": {
      "text/html": [
       "<div>\n",
       "<style scoped>\n",
       "    .dataframe tbody tr th:only-of-type {\n",
       "        vertical-align: middle;\n",
       "    }\n",
       "\n",
       "    .dataframe tbody tr th {\n",
       "        vertical-align: top;\n",
       "    }\n",
       "\n",
       "    .dataframe thead th {\n",
       "        text-align: right;\n",
       "    }\n",
       "</style>\n",
       "<table border=\"1\" class=\"dataframe\">\n",
       "  <thead>\n",
       "    <tr style=\"text-align: right;\">\n",
       "      <th></th>\n",
       "      <th>Review</th>\n",
       "      <th>Liked</th>\n",
       "    </tr>\n",
       "  </thead>\n",
       "  <tbody>\n",
       "    <tr>\n",
       "      <th>0</th>\n",
       "      <td>Wow... Loved this place.</td>\n",
       "      <td>1</td>\n",
       "    </tr>\n",
       "    <tr>\n",
       "      <th>1</th>\n",
       "      <td>Crust is not good.</td>\n",
       "      <td>0</td>\n",
       "    </tr>\n",
       "    <tr>\n",
       "      <th>2</th>\n",
       "      <td>Not tasty and the texture was just nasty.</td>\n",
       "      <td>0</td>\n",
       "    </tr>\n",
       "    <tr>\n",
       "      <th>3</th>\n",
       "      <td>Stopped by during the late May bank holiday of...</td>\n",
       "      <td>1</td>\n",
       "    </tr>\n",
       "    <tr>\n",
       "      <th>4</th>\n",
       "      <td>The selection on the menu was great and so wer...</td>\n",
       "      <td>1</td>\n",
       "    </tr>\n",
       "    <tr>\n",
       "      <th>...</th>\n",
       "      <td>...</td>\n",
       "      <td>...</td>\n",
       "    </tr>\n",
       "    <tr>\n",
       "      <th>995</th>\n",
       "      <td>I think food should have flavor and texture an...</td>\n",
       "      <td>0</td>\n",
       "    </tr>\n",
       "    <tr>\n",
       "      <th>996</th>\n",
       "      <td>Appetite instantly gone.</td>\n",
       "      <td>0</td>\n",
       "    </tr>\n",
       "    <tr>\n",
       "      <th>997</th>\n",
       "      <td>Overall I was not impressed and would not go b...</td>\n",
       "      <td>0</td>\n",
       "    </tr>\n",
       "    <tr>\n",
       "      <th>998</th>\n",
       "      <td>The whole experience was underwhelming, and I ...</td>\n",
       "      <td>0</td>\n",
       "    </tr>\n",
       "    <tr>\n",
       "      <th>999</th>\n",
       "      <td>Then, as if I hadn't wasted enough of my life ...</td>\n",
       "      <td>0</td>\n",
       "    </tr>\n",
       "  </tbody>\n",
       "</table>\n",
       "<p>1000 rows × 2 columns</p>\n",
       "</div>"
      ],
      "text/plain": [
       "                                                Review  Liked\n",
       "0                             Wow... Loved this place.      1\n",
       "1                                   Crust is not good.      0\n",
       "2            Not tasty and the texture was just nasty.      0\n",
       "3    Stopped by during the late May bank holiday of...      1\n",
       "4    The selection on the menu was great and so wer...      1\n",
       "..                                                 ...    ...\n",
       "995  I think food should have flavor and texture an...      0\n",
       "996                           Appetite instantly gone.      0\n",
       "997  Overall I was not impressed and would not go b...      0\n",
       "998  The whole experience was underwhelming, and I ...      0\n",
       "999  Then, as if I hadn't wasted enough of my life ...      0\n",
       "\n",
       "[1000 rows x 2 columns]"
      ]
     },
     "execution_count": 3,
     "metadata": {},
     "output_type": "execute_result"
    }
   ],
   "source": [
    "df"
   ]
  },
  {
   "cell_type": "code",
   "execution_count": 4,
   "id": "367e7f62",
   "metadata": {},
   "outputs": [],
   "source": [
    "import pandas as pd\n",
    "from nltk.stem import WordNetLemmatizer\n",
    "lemmatizer = WordNetLemmatizer()\n",
    "from nltk.corpus import stopwords\n",
    "from nltk.tokenize import word_tokenize\n",
    "stop_words = stopwords.words(\"english\")\n",
    "from nltk.stem.snowball import SnowballStemmer\n",
    "sn_stemmer = SnowballStemmer(\"english\")\n",
    "import re\n",
    "import nltk\n",
    "from sklearn.feature_extraction.text import CountVectorizer\n",
    "from sklearn.cluster import KMeans\n",
    "import numpy as np\n",
    "import matplotlib.pyplot as plt"
   ]
  },
  {
   "cell_type": "code",
   "execution_count": null,
   "id": "b276d897",
   "metadata": {},
   "outputs": [],
   "source": [
    "# QUESTION - 1"
   ]
  },
  {
   "cell_type": "code",
   "execution_count": 5,
   "id": "695ea731",
   "metadata": {},
   "outputs": [],
   "source": [
    "def new_function(x):\n",
    "    x = x.lower()\n",
    "    y=nltk.word_tokenize(x)\n",
    "    temp=[]\n",
    "    for i in y:\n",
    "        if i in stopwords.words(\"english\"): \n",
    "             pass\n",
    "        else:\n",
    "             temp.append(i)\n",
    "    stop=' '.join(temp)\n",
    "    \n",
    "    c=nltk.word_tokenize(stop)\n",
    "    temp2=[]\n",
    "    for i in c:\n",
    "        temp2.append(lemmatizer.lemmatize(i))\n",
    "        lem=' '.join(temp2)\n",
    "        \n",
    "    d=nltk.word_tokenize(lem)\n",
    "    temp3 = []\n",
    "    for i in d:\n",
    "        temp3.append((sn_stemmer.stem(i)))\n",
    "        stem=' '.join(temp3)\n",
    "\n",
    "    temp4 = []\n",
    "    for i in stem:\n",
    "        if i.isdigit():\n",
    "            pass\n",
    "        else:\n",
    "            temp4.append(i)\n",
    "        number =''.join(temp4)\n",
    "    return(number)"
   ]
  },
  {
   "cell_type": "code",
   "execution_count": 6,
   "id": "3e452942",
   "metadata": {},
   "outputs": [],
   "source": [
    "df['Clean Msg'] = df['Review'].apply(new_function)"
   ]
  },
  {
   "cell_type": "code",
   "execution_count": 7,
   "id": "3339a56e",
   "metadata": {},
   "outputs": [
    {
     "data": {
      "text/html": [
       "<div>\n",
       "<style scoped>\n",
       "    .dataframe tbody tr th:only-of-type {\n",
       "        vertical-align: middle;\n",
       "    }\n",
       "\n",
       "    .dataframe tbody tr th {\n",
       "        vertical-align: top;\n",
       "    }\n",
       "\n",
       "    .dataframe thead th {\n",
       "        text-align: right;\n",
       "    }\n",
       "</style>\n",
       "<table border=\"1\" class=\"dataframe\">\n",
       "  <thead>\n",
       "    <tr style=\"text-align: right;\">\n",
       "      <th></th>\n",
       "      <th>Review</th>\n",
       "      <th>Liked</th>\n",
       "      <th>Clean Msg</th>\n",
       "    </tr>\n",
       "  </thead>\n",
       "  <tbody>\n",
       "    <tr>\n",
       "      <th>0</th>\n",
       "      <td>Wow... Loved this place.</td>\n",
       "      <td>1</td>\n",
       "      <td>wow ... love place .</td>\n",
       "    </tr>\n",
       "    <tr>\n",
       "      <th>1</th>\n",
       "      <td>Crust is not good.</td>\n",
       "      <td>0</td>\n",
       "      <td>crust good .</td>\n",
       "    </tr>\n",
       "    <tr>\n",
       "      <th>2</th>\n",
       "      <td>Not tasty and the texture was just nasty.</td>\n",
       "      <td>0</td>\n",
       "      <td>tasti textur nasti .</td>\n",
       "    </tr>\n",
       "    <tr>\n",
       "      <th>3</th>\n",
       "      <td>Stopped by during the late May bank holiday of...</td>\n",
       "      <td>1</td>\n",
       "      <td>stop late may bank holiday rick steve recommen...</td>\n",
       "    </tr>\n",
       "    <tr>\n",
       "      <th>4</th>\n",
       "      <td>The selection on the menu was great and so wer...</td>\n",
       "      <td>1</td>\n",
       "      <td>select menu great price .</td>\n",
       "    </tr>\n",
       "    <tr>\n",
       "      <th>...</th>\n",
       "      <td>...</td>\n",
       "      <td>...</td>\n",
       "      <td>...</td>\n",
       "    </tr>\n",
       "    <tr>\n",
       "      <th>995</th>\n",
       "      <td>I think food should have flavor and texture an...</td>\n",
       "      <td>0</td>\n",
       "      <td>think food flavor textur lack .</td>\n",
       "    </tr>\n",
       "    <tr>\n",
       "      <th>996</th>\n",
       "      <td>Appetite instantly gone.</td>\n",
       "      <td>0</td>\n",
       "      <td>appetit instant gone .</td>\n",
       "    </tr>\n",
       "    <tr>\n",
       "      <th>997</th>\n",
       "      <td>Overall I was not impressed and would not go b...</td>\n",
       "      <td>0</td>\n",
       "      <td>overal impress would go back .</td>\n",
       "    </tr>\n",
       "    <tr>\n",
       "      <th>998</th>\n",
       "      <td>The whole experience was underwhelming, and I ...</td>\n",
       "      <td>0</td>\n",
       "      <td>whole experi underwhelm , think ll go ninja su...</td>\n",
       "    </tr>\n",
       "    <tr>\n",
       "      <th>999</th>\n",
       "      <td>Then, as if I hadn't wasted enough of my life ...</td>\n",
       "      <td>0</td>\n",
       "      <td>, n't wast enough life , pour salt wound draw ...</td>\n",
       "    </tr>\n",
       "  </tbody>\n",
       "</table>\n",
       "<p>1000 rows × 3 columns</p>\n",
       "</div>"
      ],
      "text/plain": [
       "                                                Review  Liked  \\\n",
       "0                             Wow... Loved this place.      1   \n",
       "1                                   Crust is not good.      0   \n",
       "2            Not tasty and the texture was just nasty.      0   \n",
       "3    Stopped by during the late May bank holiday of...      1   \n",
       "4    The selection on the menu was great and so wer...      1   \n",
       "..                                                 ...    ...   \n",
       "995  I think food should have flavor and texture an...      0   \n",
       "996                           Appetite instantly gone.      0   \n",
       "997  Overall I was not impressed and would not go b...      0   \n",
       "998  The whole experience was underwhelming, and I ...      0   \n",
       "999  Then, as if I hadn't wasted enough of my life ...      0   \n",
       "\n",
       "                                             Clean Msg  \n",
       "0                                 wow ... love place .  \n",
       "1                                         crust good .  \n",
       "2                                 tasti textur nasti .  \n",
       "3    stop late may bank holiday rick steve recommen...  \n",
       "4                            select menu great price .  \n",
       "..                                                 ...  \n",
       "995                    think food flavor textur lack .  \n",
       "996                             appetit instant gone .  \n",
       "997                     overal impress would go back .  \n",
       "998  whole experi underwhelm , think ll go ninja su...  \n",
       "999  , n't wast enough life , pour salt wound draw ...  \n",
       "\n",
       "[1000 rows x 3 columns]"
      ]
     },
     "execution_count": 7,
     "metadata": {},
     "output_type": "execute_result"
    }
   ],
   "source": [
    "df"
   ]
  },
  {
   "cell_type": "code",
   "execution_count": null,
   "id": "8d4216ab",
   "metadata": {},
   "outputs": [],
   "source": [
    "# QUESTION - 2"
   ]
  },
  {
   "cell_type": "code",
   "execution_count": 8,
   "id": "3d07b1fa",
   "metadata": {},
   "outputs": [],
   "source": [
    "X = df['Clean Msg']"
   ]
  },
  {
   "cell_type": "code",
   "execution_count": 9,
   "id": "3b89384f",
   "metadata": {},
   "outputs": [],
   "source": [
    "vectorizer = CountVectorizer()"
   ]
  },
  {
   "cell_type": "code",
   "execution_count": 10,
   "id": "78dc3998",
   "metadata": {},
   "outputs": [
    {
     "data": {
      "text/plain": [
       "CountVectorizer()"
      ]
     },
     "execution_count": 10,
     "metadata": {},
     "output_type": "execute_result"
    }
   ],
   "source": [
    "vectorizer.fit(X)"
   ]
  },
  {
   "cell_type": "code",
   "execution_count": 11,
   "id": "1aa4a3b7",
   "metadata": {},
   "outputs": [
    {
     "data": {
      "text/plain": [
       "<1000x1566 sparse matrix of type '<class 'numpy.int64'>'\n",
       "\twith 5434 stored elements in Compressed Sparse Row format>"
      ]
     },
     "execution_count": 11,
     "metadata": {},
     "output_type": "execute_result"
    }
   ],
   "source": [
    "vectorizer.transform(X)"
   ]
  },
  {
   "cell_type": "code",
   "execution_count": 12,
   "id": "3ee98b7d",
   "metadata": {},
   "outputs": [],
   "source": [
    "X_vectors = vectorizer.transform(X)"
   ]
  },
  {
   "cell_type": "code",
   "execution_count": 13,
   "id": "d14ed704",
   "metadata": {},
   "outputs": [
    {
     "data": {
      "text/plain": [
       "array(['absolut', 'absolutley', 'accid', 'accommod', 'accomod', 'accord',\n",
       "       'account', 'ach', 'acknowledg', 'across', 'actual', 'ad', 'afford',\n",
       "       'afternoon', 'ago', 'ahead', 'airlin', 'airport', 'al', 'ala',\n",
       "       'albondiga', 'allergi', 'almond', 'almost', 'alon', 'also',\n",
       "       'although', 'alway', 'amaz', 'ambianc', 'ambienc', 'amount',\n",
       "       'ampl', 'and', 'andddd', 'angri', 'annoy', 'anoth', 'anticip',\n",
       "       'anymor', 'anyon', 'anyth', 'anytim', 'anyway', 'apart', 'apolog',\n",
       "       'app', 'appal', 'appar', 'appeal', 'appet', 'appetit', 'appl',\n",
       "       'approv', 'area', 'arepa', 'aria', 'around', 'array', 'arriv',\n",
       "       'articl', 'ask', 'assur', 'ate', 'atmospher', 'atmosphere',\n",
       "       'atroci', 'attach', 'attack', 'attent', 'attitud', 'auju',\n",
       "       'authent', 'averag', 'avocado', 'avoid', 'aw', 'away', 'awesom',\n",
       "       'awkward', 'ayc', 'az', 'baba', 'babi', 'bachi', 'back', 'bacon',\n",
       "       'bad', 'bagel', 'bakeri', 'baklava', 'ball', 'bamboo', 'banana',\n",
       "       'bank', 'bar', 'bare', 'bargain', 'bartend', 'base'], dtype=object)"
      ]
     },
     "execution_count": 13,
     "metadata": {},
     "output_type": "execute_result"
    }
   ],
   "source": [
    "vectorizer.get_feature_names_out()[0:100]"
   ]
  },
  {
   "cell_type": "code",
   "execution_count": 14,
   "id": "1866c026",
   "metadata": {},
   "outputs": [
    {
     "data": {
      "text/plain": [
       "<1000x1566 sparse matrix of type '<class 'numpy.int64'>'\n",
       "\twith 5434 stored elements in Compressed Sparse Row format>"
      ]
     },
     "execution_count": 14,
     "metadata": {},
     "output_type": "execute_result"
    }
   ],
   "source": [
    "X_vectors"
   ]
  },
  {
   "cell_type": "code",
   "execution_count": 16,
   "id": "9b8630b9",
   "metadata": {},
   "outputs": [],
   "source": [
    "km = KMeans(n_clusters=5)"
   ]
  },
  {
   "cell_type": "code",
   "execution_count": 17,
   "id": "ea4abb62",
   "metadata": {},
   "outputs": [],
   "source": [
    "km_model = km.fit(X_vectors)"
   ]
  },
  {
   "cell_type": "code",
   "execution_count": 18,
   "id": "b4f07678",
   "metadata": {},
   "outputs": [],
   "source": [
    "y_km = km.predict(X_vectors)"
   ]
  },
  {
   "cell_type": "code",
   "execution_count": 19,
   "id": "a42e657b",
   "metadata": {},
   "outputs": [
    {
     "data": {
      "text/plain": [
       "array([2, 1, 1, 1, 1, 1, 1, 1, 1, 1, 1, 0, 1, 1, 1, 1, 1, 1, 2, 1, 1, 3,\n",
       "       1, 1, 1, 1, 1, 1, 3, 1, 1, 1, 2, 3, 2, 1, 1, 1, 1, 1, 1, 1, 1, 1,\n",
       "       1, 1, 3, 1, 0, 1, 1, 1, 1, 3, 1, 3, 1, 1, 1, 1, 1, 2, 1, 0, 2, 3,\n",
       "       1, 0, 3, 1, 1, 1, 1, 1, 2, 1, 1, 1, 1, 3, 1, 2, 1, 2, 1, 1, 1, 3,\n",
       "       1, 1, 1, 1, 1, 1, 1, 0, 0, 3, 1, 3, 0, 1, 1, 1, 1, 1, 3, 1, 0, 1,\n",
       "       1, 3, 1, 1, 1, 1, 1, 1, 1, 2, 2, 1, 1, 2, 2, 1, 2, 3, 1, 1, 2, 1,\n",
       "       3, 1, 1, 1, 1, 3, 1, 1, 1, 1, 3, 1, 3, 2, 3, 3, 1, 1, 1, 1, 1, 1,\n",
       "       1, 1, 1, 0, 2, 1, 0, 1, 1, 1, 1, 1, 2, 3, 1, 1, 1, 1, 1, 1, 1, 0,\n",
       "       1, 1, 2, 1, 1, 0, 1, 1, 2, 1, 3, 1, 1, 1, 3, 1, 1, 1, 1, 2, 1, 1,\n",
       "       1, 1, 2, 3, 1, 1, 1, 1, 2, 1, 2, 1, 1, 1, 1, 0, 1, 1, 1, 1, 1, 3,\n",
       "       1, 1, 1, 0, 1, 1, 1, 1, 1, 2, 2, 3, 1, 1, 2, 1, 1, 1, 0, 1, 1, 1,\n",
       "       1, 1, 2, 1, 1, 2, 1, 0, 1, 1, 1, 2, 1, 1, 1, 1, 1, 1, 2, 1, 1, 1,\n",
       "       1, 1, 1, 3, 1, 1, 1, 3, 1, 2, 1, 1, 1, 1, 1, 1, 1, 1, 1, 2, 1, 1,\n",
       "       1, 1, 2, 2, 1, 1, 3, 0, 1, 1, 0, 1, 2, 3, 3, 1, 1, 3, 1, 1, 0, 0,\n",
       "       1, 1, 3, 1, 3, 0, 3, 1, 2, 0, 0, 1, 1, 1, 3, 1, 2, 1, 1, 1, 2, 1,\n",
       "       1, 0, 1, 1, 2, 3, 1, 1, 3, 2, 1, 1, 1, 1, 1, 1, 2, 1, 1, 3, 1, 1,\n",
       "       1, 1, 1, 1, 2, 3, 1, 1, 3, 3, 1, 0, 1, 3, 1, 0, 1, 1, 1, 1, 1, 1,\n",
       "       1, 1, 0, 2, 1, 1, 0, 1, 1, 3, 0, 1, 0, 2, 1, 0, 2, 2, 1, 1, 1, 3,\n",
       "       0, 1, 1, 1, 1, 3, 1, 2, 1, 1, 1, 3, 1, 1, 1, 1, 1, 1, 3, 1, 1, 1,\n",
       "       0, 1, 1, 1, 1, 2, 1, 1, 1, 1, 1, 1, 1, 1, 1, 1, 1, 1, 0, 1, 1, 1,\n",
       "       1, 0, 1, 1, 1, 1, 0, 1, 3, 1, 0, 3, 3, 1, 1, 1, 3, 1, 1, 2, 1, 1,\n",
       "       1, 1, 1, 3, 3, 3, 1, 1, 1, 1, 1, 1, 0, 1, 1, 1, 1, 1, 1, 2, 1, 3,\n",
       "       0, 1, 1, 0, 1, 1, 0, 1, 1, 1, 1, 1, 1, 1, 1, 1, 1, 3, 2, 1, 1, 2,\n",
       "       1, 1, 1, 1, 1, 1, 1, 1, 1, 3, 1, 1, 0, 1, 1, 0, 1, 1, 1, 3, 1, 0,\n",
       "       1, 1, 1, 2, 2, 2, 1, 1, 1, 1, 1, 1, 1, 1, 1, 0, 0, 1, 0, 1, 1, 3,\n",
       "       2, 1, 1, 1, 1, 1, 1, 1, 1, 2, 1, 1, 1, 2, 1, 2, 0, 3, 1, 1, 1, 1,\n",
       "       1, 0, 1, 1, 1, 1, 1, 1, 1, 1, 3, 1, 1, 3, 0, 1, 1, 1, 2, 1, 3, 1,\n",
       "       1, 1, 1, 1, 1, 1, 1, 3, 1, 3, 1, 3, 1, 1, 1, 1, 1, 2, 1, 3, 1, 1,\n",
       "       1, 1, 1, 1, 1, 1, 1, 3, 2, 1, 1, 1, 1, 4, 3, 1, 1, 1, 1, 1, 0, 3,\n",
       "       1, 1, 1, 1, 1, 1, 2, 1, 1, 3, 3, 0, 1, 2, 1, 1, 1, 1, 1, 1, 1, 1,\n",
       "       1, 1, 1, 1, 1, 1, 1, 1, 2, 1, 0, 1, 2, 1, 3, 1, 0, 1, 2, 1, 1, 1,\n",
       "       1, 3, 1, 1, 1, 1, 1, 3, 1, 0, 0, 1, 1, 1, 2, 1, 0, 3, 1, 1, 0, 1,\n",
       "       3, 1, 1, 1, 0, 1, 1, 1, 1, 0, 1, 1, 1, 1, 1, 0, 1, 1, 3, 1, 1, 3,\n",
       "       1, 1, 1, 1, 3, 1, 1, 3, 1, 0, 1, 3, 1, 1, 1, 1, 2, 1, 0, 1, 1, 1,\n",
       "       1, 1, 1, 1, 1, 0, 1, 1, 1, 2, 1, 1, 3, 2, 1, 1, 1, 1, 0, 1, 3, 1,\n",
       "       1, 1, 3, 1, 1, 1, 1, 1, 1, 1, 1, 1, 1, 1, 2, 1, 0, 2, 1, 1, 1, 3,\n",
       "       1, 1, 1, 2, 1, 2, 3, 2, 1, 1, 1, 2, 1, 2, 1, 3, 1, 1, 2, 1, 2, 1,\n",
       "       2, 1, 3, 1, 1, 2, 1, 1, 3, 1, 1, 0, 3, 2, 1, 1, 1, 1, 3, 3, 1, 1,\n",
       "       1, 3, 3, 0, 3, 3, 1, 0, 1, 2, 2, 0, 3, 1, 1, 0, 1, 1, 1, 1, 1, 2,\n",
       "       0, 3, 2, 0, 3, 1, 1, 1, 2, 2, 1, 1, 1, 1, 1, 1, 1, 1, 1, 2, 1, 1,\n",
       "       1, 3, 1, 1, 1, 1, 1, 1, 1, 1, 1, 2, 1, 1, 1, 1, 1, 1, 1, 1, 1, 1,\n",
       "       1, 1, 1, 1, 1, 1, 1, 1, 1, 1, 1, 1, 3, 1, 1, 3, 1, 1, 0, 2, 1, 1,\n",
       "       1, 1, 1, 1, 1, 1, 3, 3, 1, 0, 2, 2, 1, 1, 1, 1, 1, 0, 1, 1, 1, 1,\n",
       "       1, 1, 2, 1, 1, 1, 1, 1, 1, 0, 3, 1, 3, 1, 0, 1, 2, 1, 1, 1, 1, 0,\n",
       "       2, 2, 1, 1, 1, 3, 1, 1, 2, 1, 1, 3, 2, 1, 3, 1, 1, 1, 1, 1, 2, 2,\n",
       "       3, 2, 1, 3, 1, 3, 1, 0, 0, 1])"
      ]
     },
     "execution_count": 19,
     "metadata": {},
     "output_type": "execute_result"
    }
   ],
   "source": [
    "y_km"
   ]
  },
  {
   "cell_type": "code",
   "execution_count": 20,
   "id": "fa937c45",
   "metadata": {},
   "outputs": [
    {
     "data": {
      "text/plain": [
       "array([2, 1, 1, 1, 1, 1, 1, 1, 1, 1, 1, 0, 1, 1, 1, 1, 1, 1, 2, 1, 1, 3,\n",
       "       1, 1, 1, 1, 1, 1, 3, 1, 1, 1, 2, 3, 2, 1, 1, 1, 1, 1, 1, 1, 1, 1,\n",
       "       1, 1, 3, 1, 0, 1, 1, 1, 1, 3, 1, 3, 1, 1, 1, 1, 1, 2, 1, 0, 2, 3,\n",
       "       1, 0, 3, 1, 1, 1, 1, 1, 2, 1, 1, 1, 1, 3, 1, 2, 1, 2, 1, 1, 1, 3,\n",
       "       1, 1, 1, 1, 1, 1, 1, 0, 0, 3, 1, 3, 0, 1, 1, 1, 1, 1, 3, 1, 0, 1,\n",
       "       1, 3, 1, 1, 1, 1, 1, 1, 1, 2, 2, 1, 1, 2, 2, 1, 2, 3, 1, 1, 2, 1,\n",
       "       3, 1, 1, 1, 1, 3, 1, 1, 1, 1, 3, 1, 3, 2, 3, 3, 1, 1, 1, 1, 1, 1,\n",
       "       1, 1, 1, 0, 2, 1, 0, 1, 1, 1, 1, 1, 2, 3, 1, 1, 1, 1, 1, 1, 1, 0,\n",
       "       1, 1, 2, 1, 1, 0, 1, 1, 2, 1, 3, 1, 1, 1, 3, 1, 1, 1, 1, 2, 1, 1,\n",
       "       1, 1, 2, 3, 1, 1, 1, 1, 2, 1, 2, 1, 1, 1, 1, 0, 1, 1, 1, 1, 1, 3,\n",
       "       1, 1, 1, 0, 1, 1, 1, 1, 1, 2, 2, 3, 1, 1, 2, 1, 1, 1, 0, 1, 1, 1,\n",
       "       1, 1, 2, 1, 1, 2, 1, 0, 1, 1, 1, 2, 1, 1, 1, 1, 1, 1, 2, 1, 1, 1,\n",
       "       1, 1, 1, 3, 1, 1, 1, 3, 1, 2, 1, 1, 1, 1, 1, 1, 1, 1, 1, 2, 1, 1,\n",
       "       1, 1, 2, 2, 1, 1, 3, 0, 1, 1, 0, 1, 2, 3, 3, 1, 1, 3, 1, 1, 0, 0,\n",
       "       1, 1, 3, 1, 3, 0, 3, 1, 2, 0, 0, 1, 1, 1, 3, 1, 2, 1, 1, 1, 2, 1,\n",
       "       1, 0, 1, 1, 2, 3, 1, 1, 3, 2, 1, 1, 1, 1, 1, 1, 2, 1, 1, 3, 1, 1,\n",
       "       1, 1, 1, 1, 2, 3, 1, 1, 3, 3, 1, 0, 1, 3, 1, 0, 1, 1, 1, 1, 1, 1,\n",
       "       1, 1, 0, 2, 1, 1, 0, 1, 1, 3, 0, 1, 0, 2, 1, 0, 2, 2, 1, 1, 1, 3,\n",
       "       0, 1, 1, 1, 1, 3, 1, 2, 1, 1, 1, 3, 1, 1, 1, 1, 1, 1, 3, 1, 1, 1,\n",
       "       0, 1, 1, 1, 1, 2, 1, 1, 1, 1, 1, 1, 1, 1, 1, 1, 1, 1, 0, 1, 1, 1,\n",
       "       1, 0, 1, 1, 1, 1, 0, 1, 3, 1, 0, 3, 3, 1, 1, 1, 3, 1, 1, 2, 1, 1,\n",
       "       1, 1, 1, 3, 3, 3, 1, 1, 1, 1, 1, 1, 0, 1, 1, 1, 1, 1, 1, 2, 1, 3,\n",
       "       0, 1, 1, 0, 1, 1, 0, 1, 1, 1, 1, 1, 1, 1, 1, 1, 1, 3, 2, 1, 1, 2,\n",
       "       1, 1, 1, 1, 1, 1, 1, 1, 1, 3, 1, 1, 0, 1, 1, 0, 1, 1, 1, 3, 1, 0,\n",
       "       1, 1, 1, 2, 2, 2, 1, 1, 1, 1, 1, 1, 1, 1, 1, 0, 0, 1, 0, 1, 1, 3,\n",
       "       2, 1, 1, 1, 1, 1, 1, 1, 1, 2, 1, 1, 1, 2, 1, 2, 0, 3, 1, 1, 1, 1,\n",
       "       1, 0, 1, 1, 1, 1, 1, 1, 1, 1, 3, 1, 1, 3, 0, 1, 1, 1, 2, 1, 3, 1,\n",
       "       1, 1, 1, 1, 1, 1, 1, 3, 1, 3, 1, 3, 1, 1, 1, 1, 1, 2, 1, 3, 1, 1,\n",
       "       1, 1, 1, 1, 1, 1, 1, 3, 2, 1, 1, 1, 1, 4, 3, 1, 1, 1, 1, 1, 0, 3,\n",
       "       1, 1, 1, 1, 1, 1, 2, 1, 1, 3, 3, 0, 1, 2, 1, 1, 1, 1, 1, 1, 1, 1,\n",
       "       1, 1, 1, 1, 1, 1, 1, 1, 2, 1, 0, 1, 2, 1, 3, 1, 0, 1, 2, 1, 1, 1,\n",
       "       1, 3, 1, 1, 1, 1, 1, 3, 1, 0, 0, 1, 1, 1, 2, 1, 0, 3, 1, 1, 0, 1,\n",
       "       3, 1, 1, 1, 0, 1, 1, 1, 1, 0, 1, 1, 1, 1, 1, 0, 1, 1, 3, 1, 1, 3,\n",
       "       1, 1, 1, 1, 3, 1, 1, 3, 1, 0, 1, 3, 1, 1, 1, 1, 2, 1, 0, 1, 1, 1,\n",
       "       1, 1, 1, 1, 1, 0, 1, 1, 1, 2, 1, 1, 3, 2, 1, 1, 1, 1, 0, 1, 3, 1,\n",
       "       1, 1, 3, 1, 1, 1, 1, 1, 1, 1, 1, 1, 1, 1, 2, 1, 0, 2, 1, 1, 1, 3,\n",
       "       1, 1, 1, 2, 1, 2, 3, 2, 1, 1, 1, 2, 1, 2, 1, 3, 1, 1, 2, 1, 2, 1,\n",
       "       2, 1, 3, 1, 1, 2, 1, 1, 3, 1, 1, 0, 3, 2, 1, 1, 1, 1, 3, 3, 1, 1,\n",
       "       1, 3, 3, 0, 3, 3, 1, 0, 1, 2, 2, 0, 3, 1, 1, 0, 1, 1, 1, 1, 1, 2,\n",
       "       0, 3, 2, 0, 3, 1, 1, 1, 2, 2, 1, 1, 1, 1, 1, 1, 1, 1, 1, 2, 1, 1,\n",
       "       1, 3, 1, 1, 1, 1, 1, 1, 1, 1, 1, 2, 1, 1, 1, 1, 1, 1, 1, 1, 1, 1,\n",
       "       1, 1, 1, 1, 1, 1, 1, 1, 1, 1, 1, 1, 3, 1, 1, 3, 1, 1, 0, 2, 1, 1,\n",
       "       1, 1, 1, 1, 1, 1, 3, 3, 1, 0, 2, 2, 1, 1, 1, 1, 1, 0, 1, 1, 1, 1,\n",
       "       1, 1, 2, 1, 1, 1, 1, 1, 1, 0, 3, 1, 3, 1, 0, 1, 2, 1, 1, 1, 1, 0,\n",
       "       2, 2, 1, 1, 1, 3, 1, 1, 2, 1, 1, 3, 2, 1, 3, 1, 1, 1, 1, 1, 2, 2,\n",
       "       3, 2, 1, 3, 1, 3, 1, 0, 0, 1])"
      ]
     },
     "execution_count": 20,
     "metadata": {},
     "output_type": "execute_result"
    }
   ],
   "source": [
    "km.labels_"
   ]
  },
  {
   "cell_type": "code",
   "execution_count": 21,
   "id": "56838366",
   "metadata": {},
   "outputs": [
    {
     "data": {
      "text/plain": [
       "array([[0.01234568, 0.        , 0.        , ..., 0.        , 0.        ,\n",
       "        0.        ],\n",
       "       [0.01001431, 0.00143062, 0.        , ..., 0.00286123, 0.00572246,\n",
       "        0.00715308],\n",
       "       [0.        , 0.        , 0.00961538, ..., 0.        , 0.        ,\n",
       "        0.        ],\n",
       "       [0.00869565, 0.        , 0.        , ..., 0.        , 0.        ,\n",
       "        0.        ],\n",
       "       [0.        , 0.        , 0.        , ..., 0.        , 0.        ,\n",
       "        0.        ]])"
      ]
     },
     "execution_count": 21,
     "metadata": {},
     "output_type": "execute_result"
    }
   ],
   "source": [
    "km.cluster_centers_"
   ]
  },
  {
   "cell_type": "code",
   "execution_count": 22,
   "id": "857c9e30",
   "metadata": {},
   "outputs": [],
   "source": [
    "temp=[]\n",
    "for i in range(4):\n",
    "    km = KMeans(\n",
    "        n_clusters=i+1,\n",
    "    )\n",
    "    km.fit(X_vectors)\n",
    "    temp.append(km.inertia_)"
   ]
  },
  {
   "cell_type": "code",
   "execution_count": 23,
   "id": "3e75fad2",
   "metadata": {},
   "outputs": [
    {
     "data": {
      "text/plain": [
       "[5689.892999999999, 5578.496138515197, 5534.247831754145, 5389.939783549782]"
      ]
     },
     "execution_count": 23,
     "metadata": {},
     "output_type": "execute_result"
    }
   ],
   "source": [
    "temp"
   ]
  },
  {
   "cell_type": "code",
   "execution_count": 24,
   "id": "1234980d",
   "metadata": {},
   "outputs": [
    {
     "data": {
      "image/png": "[encoded data removed]",
      "text/plain": [
       "<Figure size 640x480 with 1 Axes>"
      ]
     },
     "metadata": {},
     "output_type": "display_data"
    }
   ],
   "source": [
    "# plot\n",
    "plt.plot(range(1, 5), temp, marker='o')\n",
    "plt.xlabel('Number of clusters')\n",
    "plt.ylabel('Distortion')\n",
    "plt.show()"
   ]
  }
 ],
 "metadata": {
  "kernelspec": {
   "display_name": "Python 3 (ipykernel)",
   "language": "python",
   "name": "python3"
  },
  "language_info": {
   "codemirror_mode": {
    "name": "ipython",
    "version": 3
   },
   "file_extension": ".py",
   "mimetype": "text/x-python",
   "name": "python",
   "nbconvert_exporter": "python",
   "pygments_lexer": "ipython3",
   "version": "3.9.13"
  }
 },
 "nbformat": 4,
 "nbformat_minor": 5
}
