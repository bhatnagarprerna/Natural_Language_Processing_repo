{
 "cells": [
  {
   "cell_type": "markdown",
   "id": "8f49e536",
   "metadata": {},
   "source": [
    "# Problem Statement\n",
    "Create a python function that takes a string as an input and returns a string with every word lemmatized as an output. "
   ]
  },
  {
   "cell_type": "code",
   "execution_count": 10,
   "id": "8d388adf",
   "metadata": {},
   "outputs": [],
   "source": [
    "# I am writing some code as hints, feel free to solve it however you want\n",
    "from nltk.stem import WordNetLemmatizer\n",
    "lemmatizer = WordNetLemmatizer()"
   ]
  },
  {
   "cell_type": "code",
   "execution_count": 11,
   "id": "056ed9da",
   "metadata": {},
   "outputs": [
    {
     "name": "stdout",
     "output_type": "stream",
     "text": [
      "languages ---> language\n",
      "are ---> are\n",
      "changed ---> changed\n",
      "better ---> better\n",
      "drives ---> drive\n",
      "swimming ---> swimming\n",
      "thinking ---> thinking\n",
      "children ---> child\n",
      "universities ---> university\n"
     ]
    }
   ],
   "source": [
    "string1 = ['languages', 'are', 'changed', 'better', 'drives',\n",
    "         'swimming', 'thinking', 'children', 'universities']\n",
    "for words in string1:\n",
    "    print(words + \" ---> \" + lemmatizer.lemmatize(words))"
   ]
  },
  {
   "cell_type": "code",
   "execution_count": 12,
   "id": "07a9cea9",
   "metadata": {},
   "outputs": [],
   "source": [
    "def newlemmatizer(string1):\n",
    "    for words in string1:\n",
    "        print(lemmatizer.lemmatize(words))"
   ]
  },
  {
   "cell_type": "code",
   "execution_count": 13,
   "id": "290ae4e6",
   "metadata": {},
   "outputs": [
    {
     "name": "stdout",
     "output_type": "stream",
     "text": [
      "language\n",
      "are\n",
      "changed\n",
      "better\n",
      "drive\n",
      "swimming\n",
      "thinking\n",
      "child\n",
      "university\n"
     ]
    }
   ],
   "source": [
    "newlemmatizer(string1)"
   ]
  }
 ],
 "metadata": {
  "kernelspec": {
   "display_name": "Python 3 (ipykernel)",
   "language": "python",
   "name": "python3"
  },
  "language_info": {
   "codemirror_mode": {
    "name": "ipython",
    "version": 3
   },
   "file_extension": ".py",
   "mimetype": "text/x-python",
   "name": "python",
   "nbconvert_exporter": "python",
   "pygments_lexer": "ipython3",
   "version": "3.9.13"
  }
 },
 "nbformat": 4,
 "nbformat_minor": 5
}
